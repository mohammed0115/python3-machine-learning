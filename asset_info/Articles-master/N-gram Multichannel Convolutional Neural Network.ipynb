{
  "nbformat": 4,
  "nbformat_minor": 0,
  "metadata": {
    "colab": {
      "name": "TextCNN-Tensor.ipynb",
      "version": "0.3.2",
      "provenance": [],
      "collapsed_sections": []
    },
    "kernelspec": {
      "name": "python3",
      "display_name": "Python 3"
    },
    "accelerator": "GPU"
  },
  "cells": [
    {
      "cell_type": "code",
      "metadata": {
        "id": "G2l1OwSsiI5F",
        "colab_type": "code",
        "colab": {}
      },
      "source": [
        "!pip install -q tf_nightly"
      ],
      "execution_count": 0,
      "outputs": []
    },
    {
      "cell_type": "code",
      "metadata": {
        "id": "CI5jvtRgdPoP",
        "colab_type": "code",
        "colab": {
          "base_uri": "https://localhost:8080/",
          "height": 34
        },
        "outputId": "74b7d366-ef7d-4741-e2e2-20924d79c2eb"
      },
      "source": [
        "import numpy as np\n",
        "import tensorflow as tf\n",
        "from tensorflow import keras\n",
        "\n",
        "from keras.models import Model\n",
        "from keras.layers import Dense, Dropout, Input, GlobalMaxPooling1D, Convolution1D, Embedding,SpatialDropout1D\n",
        "from keras.layers.merge import Concatenate\n",
        "from keras.preprocessing import sequence\n",
        "from keras import regularizers\n",
        "from keras.utils import plot_model\n",
        "print(tf.__version__)\n",
        "\n",
        "\n",
        "np.random.seed(0)\n",
        "\n",
        "# ---------------------- Parameters section -------------------\n",
        "#\n",
        "# See Kim Yoon's Convolutional Neural Networks for Sentence Classification\n",
        "\n",
        "\n",
        "class hyper():\n",
        "  def __init__(self,embedding_dim,filter_sizes,num_filters,dropout_prob,hidden_dims,batch_size,num_epochs):\n",
        "    # Model Hyperparameters\n",
        "    self.embedding_dim = embedding_dim\n",
        "    self.filter_sizes = filter_sizes\n",
        "    self.num_filters = num_filters\n",
        "    self.dropout_prob = dropout_prob\n",
        "    self.hidden_dims = hidden_dims\n",
        "    # Training parameters\n",
        "    self.batch_size = batch_size\n",
        "    self.num_epochs = num_epochs\n",
        "\n",
        "class prep_hyper():\n",
        "  def __init__(self,sequence_length,max_words):\n",
        "    # Prepossessing parameters\n",
        "    self.sequence_length = sequence_length\n",
        "    self.max_words = max_words\n",
        "    \n",
        "m_hyper=hyper(embedding_dim=50,filter_sizes=(3,4,5,6,8),num_filters=100,dropout_prob=(0.2,0.5),hidden_dims=50,batch_size=64,num_epochs= 3)\n",
        "\n",
        "pr_hyper = prep_hyper(sequence_length=400,max_words=5000)"
      ],
      "execution_count": 117,
      "outputs": [
        {
          "output_type": "stream",
          "text": [
            "1.14.0\n"
          ],
          "name": "stdout"
        }
      ]
    },
    {
      "cell_type": "code",
      "metadata": {
        "id": "Bcc7DVBTde9_",
        "colab_type": "code",
        "colab": {}
      },
      "source": [
        "def load_imdb_data(pr_hyper):\n",
        "  imdb = keras.datasets.imdb\n",
        "  (x_train, y_train), (x_test, y_test) = imdb.load_data(num_words=pr_hyper.max_words, start_char=None,\n",
        "                                                              oov_char=None, index_from=None)\n",
        "\n",
        "  x_train = sequence.pad_sequences(x_train, maxlen=pr_hyper.sequence_length, padding=\"post\", truncating=\"post\")\n",
        "  x_test = sequence.pad_sequences(x_test, maxlen=pr_hyper.sequence_length, padding=\"post\", truncating=\"post\")\n",
        "\n",
        "  vocabulary = imdb.get_word_index()\n",
        "  vocabulary_inv = dict((v, k) for k, v in vocabulary.items())\n",
        "  vocabulary_inv[0] = \"<PAD/>\"\n",
        "  return x_train, y_train, x_test, y_test, vocabulary_inv"
      ],
      "execution_count": 0,
      "outputs": []
    },
    {
      "cell_type": "code",
      "metadata": {
        "id": "EwA6g-r6hZn3",
        "colab_type": "code",
        "colab": {
          "base_uri": "https://localhost:8080/",
          "height": 34
        },
        "outputId": "80e1326c-81d0-4634-b04e-eed31652be66"
      },
      "source": [
        "# Data Preparation\n",
        "print(\"Load data...\")\n",
        "x_train, y_train, x_test, y_test, vocabulary_inv = load_imdb_data(pr_hyper)"
      ],
      "execution_count": 119,
      "outputs": [
        {
          "output_type": "stream",
          "text": [
            "Load data...\n"
          ],
          "name": "stdout"
        }
      ]
    },
    {
      "cell_type": "code",
      "metadata": {
        "id": "XOK8gSYGjWt6",
        "colab_type": "code",
        "colab": {
          "base_uri": "https://localhost:8080/",
          "height": 68
        },
        "outputId": "ea2aa660-e3d0-4cda-c5eb-0cfe1f67c2ef"
      },
      "source": [
        "print(\"x_train shape:\", x_train.shape)\n",
        "print(\"x_test shape:\", x_test.shape)\n",
        "print(\"Vocabulary Size: {:d}\".format(len(vocabulary_inv)))"
      ],
      "execution_count": 120,
      "outputs": [
        {
          "output_type": "stream",
          "text": [
            "x_train shape: (25000, 400)\n",
            "x_test shape: (25000, 400)\n",
            "Vocabulary Size: 88585\n"
          ],
          "name": "stdout"
        }
      ]
    },
    {
      "cell_type": "code",
      "metadata": {
        "id": "WxbwIbKJl40Q",
        "colab_type": "code",
        "colab": {}
      },
      "source": [
        "def build_model(pr_hyper,m_hyper):\n",
        "    \n",
        "    # Convolutional block\n",
        "    model_input = Input(shape=(pr_hyper.sequence_length,),dtype='int32')\n",
        "    # use a random embedding for the text\n",
        "    x = Embedding(pr_hyper.max_words, m_hyper.embedding_dim)(model_input)\n",
        "    x = SpatialDropout1D(m_hyper.dropout_prob[0])(x)\n",
        "\n",
        "    conv_kern_reg = regularizers.l2(0.00001)\n",
        "    conv_bias_reg = regularizers.l2(0.00001)\n",
        "    \n",
        "    conv_blocks = []\n",
        "    for sz in m_hyper.filter_sizes:\n",
        "        conv = Convolution1D(filters=m_hyper.num_filters,\n",
        "                             kernel_size=sz,\n",
        "                             padding=\"same\",\n",
        "                             activation=\"relu\",\n",
        "                             strides=1,\n",
        "                             kernel_regularizer=conv_kern_reg,\n",
        "                             bias_regularizer=conv_bias_reg)(x)\n",
        "        conv = GlobalMaxPooling1D()(conv)\n",
        "        conv_blocks.append(conv)\n",
        "    # merge\n",
        "    x = Concatenate()(conv_blocks) if len(conv_blocks) > 1 else conv_blocks[0]\n",
        "    \n",
        "    x = Dropout(m_hyper.dropout_prob[1])(x)\n",
        "    x = Dense(m_hyper.hidden_dims, activation=\"relu\")(x)\n",
        "    model_output = Dense(1, activation=\"sigmoid\")(x)\n",
        "    model = Model(model_input, model_output)\n",
        "    model.compile(loss=\"binary_crossentropy\", optimizer=\"adam\", metrics=[\"accuracy\"])\n",
        "    print(model.summary())\n",
        "    plot_model(model, show_shapes=True, to_file='multichannel.png')\n",
        "    return model"
      ],
      "execution_count": 0,
      "outputs": []
    },
    {
      "cell_type": "code",
      "metadata": {
        "id": "yAyJTRvWcRq1",
        "colab_type": "code",
        "colab": {
          "base_uri": "https://localhost:8080/",
          "height": 918
        },
        "outputId": "61c41828-46af-422b-b741-71e6ca30c001"
      },
      "source": [
        "# Train the model\n",
        "model=build_model(pr_hyper,m_hyper)\n",
        "history = model.fit(x_train, y_train, batch_size=m_hyper.batch_size, epochs=m_hyper.num_epochs,\n",
        "          validation_data=(x_test, y_test), verbose=1)\n",
        "history_dict = history.history"
      ],
      "execution_count": 122,
      "outputs": [
        {
          "output_type": "stream",
          "text": [
            "__________________________________________________________________________________________________\n",
            "Layer (type)                    Output Shape         Param #     Connected to                     \n",
            "==================================================================================================\n",
            "input_17 (InputLayer)           (None, 400)          0                                            \n",
            "__________________________________________________________________________________________________\n",
            "embedding_17 (Embedding)        (None, 400, 50)      250000      input_17[0][0]                   \n",
            "__________________________________________________________________________________________________\n",
            "spatial_dropout1d_11 (SpatialDr (None, 400, 50)      0           embedding_17[0][0]               \n",
            "__________________________________________________________________________________________________\n",
            "conv1d_56 (Conv1D)              (None, 400, 100)     15100       spatial_dropout1d_11[0][0]       \n",
            "__________________________________________________________________________________________________\n",
            "conv1d_57 (Conv1D)              (None, 400, 100)     20100       spatial_dropout1d_11[0][0]       \n",
            "__________________________________________________________________________________________________\n",
            "conv1d_58 (Conv1D)              (None, 400, 100)     25100       spatial_dropout1d_11[0][0]       \n",
            "__________________________________________________________________________________________________\n",
            "conv1d_59 (Conv1D)              (None, 400, 100)     30100       spatial_dropout1d_11[0][0]       \n",
            "__________________________________________________________________________________________________\n",
            "conv1d_60 (Conv1D)              (None, 400, 100)     40100       spatial_dropout1d_11[0][0]       \n",
            "__________________________________________________________________________________________________\n",
            "global_max_pooling1d_55 (Global (None, 100)          0           conv1d_56[0][0]                  \n",
            "__________________________________________________________________________________________________\n",
            "global_max_pooling1d_56 (Global (None, 100)          0           conv1d_57[0][0]                  \n",
            "__________________________________________________________________________________________________\n",
            "global_max_pooling1d_57 (Global (None, 100)          0           conv1d_58[0][0]                  \n",
            "__________________________________________________________________________________________________\n",
            "global_max_pooling1d_58 (Global (None, 100)          0           conv1d_59[0][0]                  \n",
            "__________________________________________________________________________________________________\n",
            "global_max_pooling1d_59 (Global (None, 100)          0           conv1d_60[0][0]                  \n",
            "__________________________________________________________________________________________________\n",
            "concatenate_13 (Concatenate)    (None, 500)          0           global_max_pooling1d_55[0][0]    \n",
            "                                                                 global_max_pooling1d_56[0][0]    \n",
            "                                                                 global_max_pooling1d_57[0][0]    \n",
            "                                                                 global_max_pooling1d_58[0][0]    \n",
            "                                                                 global_max_pooling1d_59[0][0]    \n",
            "__________________________________________________________________________________________________\n",
            "dropout_11 (Dropout)            (None, 500)          0           concatenate_13[0][0]             \n",
            "__________________________________________________________________________________________________\n",
            "dense_25 (Dense)                (None, 50)           25050       dropout_11[0][0]                 \n",
            "__________________________________________________________________________________________________\n",
            "dense_26 (Dense)                (None, 1)            51          dense_25[0][0]                   \n",
            "==================================================================================================\n",
            "Total params: 405,601\n",
            "Trainable params: 405,601\n",
            "Non-trainable params: 0\n",
            "__________________________________________________________________________________________________\n",
            "None\n",
            "Train on 25000 samples, validate on 25000 samples\n",
            "Epoch 1/3\n",
            "25000/25000 [==============================] - 11s 447us/step - loss: 0.5051 - acc: 0.7250 - val_loss: 0.3049 - val_acc: 0.8733\n",
            "Epoch 2/3\n",
            "25000/25000 [==============================] - 9s 346us/step - loss: 0.2826 - acc: 0.8854 - val_loss: 0.2683 - val_acc: 0.8910\n",
            "Epoch 3/3\n",
            "25000/25000 [==============================] - 9s 349us/step - loss: 0.2149 - acc: 0.9175 - val_loss: 0.2735 - val_acc: 0.8903\n"
          ],
          "name": "stdout"
        }
      ]
    },
    {
      "cell_type": "code",
      "metadata": {
        "id": "InnrUrR8oTro",
        "colab_type": "code",
        "colab": {
          "base_uri": "https://localhost:8080/",
          "height": 51
        },
        "outputId": "09ba2692-da94-4872-bd4b-79b7c6bb04a8"
      },
      "source": [
        "loss, accuracy = model.evaluate(x_train, y_train, verbose=False)\n",
        "print(\"Training Accuracy: {:.4f}\".format(accuracy))\n",
        "loss, accuracy = model.evaluate(x_test, y_test, verbose=False)\n",
        "print(\"Testing Accuracy:  {:.4f}\".format(accuracy))"
      ],
      "execution_count": 123,
      "outputs": [
        {
          "output_type": "stream",
          "text": [
            "Training Accuracy: 0.9646\n",
            "Testing Accuracy:  0.8903\n"
          ],
          "name": "stdout"
        }
      ]
    },
    {
      "cell_type": "code",
      "metadata": {
        "id": "zm3iSM-Fp34x",
        "colab_type": "code",
        "colab": {
          "base_uri": "https://localhost:8080/",
          "height": 295
        },
        "outputId": "f96773f1-a134-49dd-b05a-2d6a3e2b77ad"
      },
      "source": [
        "import matplotlib.pyplot as plt\n",
        "\n",
        "acc = history_dict['acc']\n",
        "val_acc = history_dict['val_acc']\n",
        "\n",
        "epochs = range(1, len(acc) + 1)\n",
        "\n",
        "# \"bo\" is for \"blue dot\"\n",
        "plt.plot(epochs, acc, 'r', label='Training Accuracy')\n",
        "# b is for \"solid blue line\"\n",
        "plt.plot(epochs, val_acc, 'b', label='Validation Accuracy')\n",
        "plt.title('Training and validation Accuracy')\n",
        "plt.xlabel('Epochs')\n",
        "plt.ylabel('Accuracy')\n",
        "plt.legend()\n",
        "\n",
        "plt.show()"
      ],
      "execution_count": 124,
      "outputs": [
        {
          "output_type": "display_data",
          "data": {
            "image/png": "[encoded data removed]",
            "text/plain": [
              "<Figure size 432x288 with 1 Axes>"
            ]
          },
          "metadata": {
            "tags": []
          }
        }
      ]
    },
    {
      "cell_type": "code",
      "metadata": {
        "id": "Gz-shSGXqSks",
        "colab_type": "code",
        "colab": {}
      },
      "source": [
        ""
      ],
      "execution_count": 0,
      "outputs": []
    }
  ]
}